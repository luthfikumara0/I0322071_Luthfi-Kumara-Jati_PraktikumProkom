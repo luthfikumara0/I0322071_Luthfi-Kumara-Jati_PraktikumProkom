{
 "cells": [
  {
   "cell_type": "code",
   "execution_count": 1,
   "metadata": {},
   "outputs": [
    {
     "name": "stdout",
     "output_type": "stream",
     "text": [
      "Luthfi Kumara Jati\n",
      "I0322071\n",
      "C\n"
     ]
    }
   ],
   "source": [
    "print(input(\"Nama: \"))\n",
    "print(input(\"NIM: \"))\n",
    "print(input(\"Kelas: \"))"
   ]
  },
  {
   "attachments": {},
   "cell_type": "markdown",
   "metadata": {},
   "source": [
    "## 1."
   ]
  },
  {
   "attachments": {},
   "cell_type": "markdown",
   "metadata": {},
   "source": [
    "buatlah program sederhana untuk:\n",
    "* **A** mencari massa jika diketahui nilai energi potensial, percepatan gravitasi, dan ketinggian benda! beserta rumus nya!\n",
    "* **B** mencari gaya apung jika diketahui massa jenis, tinggi, panjang, dan lebar benda serta percepatan gravitasi dan contohnya! beserta rumus nya!\n",
    "* **C** Tulis program Python untuk menghitung luas dari segi lima sama sisi!\n",
    "\n",
    "> *note* : rumus, contoh, dan nilai dari tiap variabel ditentukan oleh kalian sendiri dan gunakan satuan baku (SI) untuk menghitung nilai dari tiap variabel"
   ]
  },
  {
   "cell_type": "code",
   "execution_count": 5,
   "metadata": {},
   "outputs": [
    {
     "name": "stdout",
     "output_type": "stream",
     "text": [
      "Energi potensial =  60.0 joule\n",
      "Percepatan gravitasi =  10 m/s**2\n",
      "Ketinggian benda =  70.0 m\n",
      "Massa benda adalah =  0.08571428571428572 kg\n"
     ]
    }
   ],
   "source": [
    "#A mencari massa jika diketahui nilai energi potensial, percepatan gravitasi, dan ketinggian benda! beserta rumus nya!\n",
    "\n",
    "energi_potensial = float(input(\"Masukan energi potensial yang diketahui = \"))\n",
    "percepatan_gravitasi = 10\n",
    "tinggi_benda = float(input(\"Masukan tinggi benda = \"))\n",
    "massa_benda = energi_potensial/(tinggi_benda*percepatan_gravitasi)\n",
    "\n",
    "print(\"Energi potensial = \",energi_potensial, \"joule\")\n",
    "print(\"Percepatan gravitasi = \",percepatan_gravitasi, \"m/s**2\")\n",
    "print(\"Ketinggian benda = \",tinggi_benda, \"m\")\n",
    "print(\"Massa benda adalah = \",massa_benda, \"kg\")"
   ]
  },
  {
   "cell_type": "code",
   "execution_count": 8,
   "metadata": {},
   "outputs": [
    {
     "name": "stdout",
     "output_type": "stream",
     "text": [
      "Massa jenis =  8.0 kg/m**3\n",
      "Tinggi benda =  9.0 m\n",
      "Panjang benda =  6.0 m\n",
      "Lebar benda =  5.0 m\n",
      "Percepatan gravitasi =  10 m/s**2\n",
      "Rumus gaya apung : F = 𝜌 𝑔 𝑉\n",
      "Gaya apung yang bekerja pada benda adalah =  231.42857142857142 N\n"
     ]
    }
   ],
   "source": [
    "#B mencari gaya apung jika diketahui massa jenis, tinggi, panjang, dan lebar benda serta percepatan gravitasi dan contohnya! beserta rumus nya!\n",
    "\n",
    "massa_jenis = float(input(\"Masukan massa jenis = \")) \n",
    "tinggi_benda = float(input(\"Masukan tinggi benda = \")) \n",
    "panjang_benda = float(input(\"Masukan panjang benda = \")) \n",
    "lebar_benda = float(input(\"Masukan lebar benda = \")) \n",
    "percepatan_gravitasi = 10 \n",
    "volume_benda = tinggi_benda * panjang_benda * lebar_benda\n",
    "gaya_apung = massa_benda * volume_benda * percepatan_gravitasi\n",
    "\n",
    "print(\"Massa jenis = \",massa_jenis, \"kg/m**3\")\n",
    "print(\"Tinggi benda = \",tinggi_benda, \"m\")\n",
    "print(\"Panjang benda = \",panjang_benda, \"m\")\n",
    "print(\"Lebar benda = \", lebar_benda, \"m\")\n",
    "print(\"Percepatan gravitasi = \",percepatan_gravitasi, \"m/s**2\")\n",
    "print(\"Rumus gaya apung : F = 𝜌 𝑔 𝑉\")\n",
    "print(\"Gaya apung yang bekerja pada benda adalah = \",gaya_apung, \"N\")\n"
   ]
  },
  {
   "cell_type": "code",
   "execution_count": 11,
   "metadata": {},
   "outputs": [
    {
     "name": "stdout",
     "output_type": "stream",
     "text": [
      "Panjang sisi =  7.0 cm\n",
      "Rumus luas segilima = a²/4 x √(25 + 10√5))\n",
      "Maka luas segilima adalah =  84.30339262885938 cm**2\n"
     ]
    }
   ],
   "source": [
    "# C Tulis program Python untuk menghitung luas dari segi lima sama sisi!\n",
    "import math\n",
    "sisi = float(input(\"Masukan panjang sisi = \"))\n",
    "luas_segilima = ((sisi ** 2) / 4) * (math.sqrt(25 + (10 * math.sqrt(5))))\n",
    "\n",
    "print(\"Panjang sisi = \",sisi, \"cm\")\n",
    "print(\"Rumus luas segilima = a²/4 x √(25 + 10√5))\")\n",
    "print(\"Maka luas segilima adalah = \",luas_segilima,\"cm**2\")"
   ]
  },
  {
   "attachments": {},
   "cell_type": "markdown",
   "metadata": {},
   "source": [
    "## 2."
   ]
  },
  {
   "attachments": {},
   "cell_type": "markdown",
   "metadata": {},
   "source": [
    "Taman bermain ANCOL memiliki berbagai wahana, salah satunya adalah bianglala. Harga tiket yang dijual berbeda tergantung dengan kategori nya. Harga tiket bagi orang dewasa atau yang berumur lebih dari 17 tahun adalah Rp 110.000 , harga tiket untuk anak-anak usia 6-16 tahun adalah Rp. 75.000 , sedangkan untuk usia dibawahnya tidak dikenakan biaya. Pada wahana bianglala sedang ada \"Promo RAMADHAN\" sebesar 20% bagi pembelian tiket lebih dari 2 pcs.\n",
    "\n",
    "Keluarga Anya Forger ingin menaiki wahana bianglala tersebut, Anya (usia 18 tahun) pergi bersama ayah dan ibunya beserta dua adiknya, Harry (usia 8 tahun) dan Taylor (usia 4 tahun). \n",
    "\n",
    "> Buatlah program sederhana untuk menghitung harga total dari pembelian tiket  oleh keluarga Anya dan harga tiket setelah mendapatkan diskon"
   ]
  },
  {
   "cell_type": "code",
   "execution_count": null,
   "metadata": {},
   "outputs": [],
   "source": [
    "dewasa = int(input(\"jumlah orang dewasa (diatas 17 tahun) = \"))\n",
    "anak = int(input(\"jumlah anak-anak (6-16 tahun) = \"))\n",
    "bocil = int(input(\"jumlah anak dibawah 6 tahun = \"))\n",
    "\n",
    "tiketDewasa = 110000\n",
    "tiketAnak = 75000\n",
    "tiketBocil = 0\n",
    "totalHarga = (tiketDewasa*dewasa)+(tiketAnak*anak)+(tiketBocil*bocil)\n",
    "jumlahTiket = tiketDewasa+tiketAnak+tiketBocil\n",
    "\n",
    "if jumlahTiket>2:\n",
    "    print(\"Anda mendapatkan diskon 20%\")\n",
    "    TotalHargaSetelaDiskon = totalHarga * 80/100\n",
    "\n",
    "print(\"Jumlah tiket dewasa = \", dewasa)\n",
    "print(\"Jumlah tiket anak = \", anak)\n",
    "print(\"Jumlah tiket bocil = \", bocil)\n",
    "print(\"Harga total (normal) = \",totalHarga)\n",
    "print(\"Anda harus membayar = \",TotalHargaSetelaDiskon)  "
   ]
  },
  {
   "attachments": {},
   "cell_type": "markdown",
   "metadata": {},
   "source": [
    "## 3. "
   ]
  },
  {
   "attachments": {},
   "cell_type": "markdown",
   "metadata": {},
   "source": [
    "diberikan list aslab sebagai berikut:\n",
    "```python\n",
    "list_aslab = [\n",
    "    {\"nama\": \"Berlian Safri Prakoso\", \"nim\": \"I0320017\", \"kontak\": \"0858XXXXXXXX\"},\n",
    "    {\"nama\": \"Halidya Siti Hanifah\", \"nim\": \"I0320044\", \"kontak\": \"0878XXXXXXXX\"},\n",
    "    {\"nama\": \"Nurki Putra Mahardika\", \"nim\": \"I0320076\", \"kontak\": \"0877XXXXXXXX\"},\n",
    "    {\"nama\": \"Aji Manarul Aziz\", \"nim\": \"I0320119\", \"kontak\": \"0812XXXXXXXX\"},\n",
    "    {\"nama\": \"Alica Ayu Fitriani\", \"nim\": \"I0320121\", \"kontak\": \"0896XXXXXXXX\"},\n",
    "    {\"nama\": \"Dendy Halim Kusuma\", \"nim\": \"I0320125\", \"kontak\": \"0822XXXXXXXX\"}\n",
    "]\n",
    "```\n",
    "* **A** Tuliskan kode untuk mengakses informasi tentang \"nama\" dari semua aslab mulai dari index 1 sampai 5\n",
    "* **B** Tambahkan informasi berikut pada data aslab dan tampilkan hasilnya:\n",
    "```python\n",
    "    surel = [\"berlian@student.uns.ac.id\",\n",
    "          \"halidya@student.uns.ac.id\",\n",
    "          \"nurki@student.uns.ac.id\",\n",
    "          \"manarul@student.uns.ac.id\",\n",
    "          \"alica@student.uns.ac.id\",\n",
    "          \"dendy@student.uns.ac.id\"]\n",
    "```\n",
    "* **C** Hapus nilai pada kunci \"kontak\" pada list aslab dan tampilkan hasilnya\n",
    "> *note: kalian hanya boleh menggunakan key-value pair yang disebutkan di dalam teks, tanpa menggunakan informasi tambahan yang diambil pada list yang ada*"
   ]
  },
  {
   "cell_type": "code",
   "execution_count": 12,
   "metadata": {},
   "outputs": [
    {
     "name": "stdout",
     "output_type": "stream",
     "text": [
      "Halidya Siti Hanifah\n",
      "Nurki Putra Mahardika\n",
      "Aji Manarul Aziz\n",
      "Alica Ayu Fitriani\n",
      "Dendy Halim Kusuma\n"
     ]
    }
   ],
   "source": [
    "# A \n",
    "list_aslab = [\n",
    "    {\"nama\": \"Berlian Safri Prakoso\", \"nim\": \"I0320017\", \"kontak\": \"0858XXXXXXXX\"},\n",
    "    {\"nama\": \"Halidya Siti Hanifah\", \"nim\": \"I0320044\", \"kontak\": \"0878XXXXXXXX\"},\n",
    "    {\"nama\": \"Nurki Putra Mahardika\", \"nim\": \"I0320076\", \"kontak\": \"0877XXXXXXXX\"},\n",
    "    {\"nama\": \"Aji Manarul Aziz\", \"nim\": \"I0320119\", \"kontak\": \"0812XXXXXXXX\"},\n",
    "    {\"nama\": \"Alica Ayu Fitriani\", \"nim\": \"I0320121\", \"kontak\": \"0896XXXXXXXX\"},\n",
    "    {\"nama\": \"Dendy Halim Kusuma\", \"nim\": \"I0320125\", \"kontak\": \"0822XXXXXXXX\"}\n",
    "]\n",
    "\n",
    "surel = [\"berlian@student.uns.ac.id\",\n",
    "          \"halidya@student.uns.ac.id\",\n",
    "          \"nurki@student.uns.ac.id\",\n",
    "          \"manarul@student.uns.ac.id\",\n",
    "          \"alica@student.uns.ac.id\",\n",
    "          \"dendy@student.uns.ac.id\"]\n",
    "\n",
    "for i in range(1, len(list_aslab)):\n",
    "    print(list_aslab[i][\"nama\"])"
   ]
  },
  {
   "cell_type": "code",
   "execution_count": 13,
   "metadata": {},
   "outputs": [
    {
     "name": "stdout",
     "output_type": "stream",
     "text": [
      "[{'nama': 'Berlian Safri Prakoso', 'nim': 'I0320017', 'kontak': '0858XXXXXXXX', 'surel': 'berlian@student.uns.ac.id'}, {'nama': 'Halidya Siti Hanifah', 'nim': 'I0320044', 'kontak': '0878XXXXXXXX', 'surel': 'halidya@student.uns.ac.id'}, {'nama': 'Nurki Putra Mahardika', 'nim': 'I0320076', 'kontak': '0877XXXXXXXX', 'surel': 'nurki@student.uns.ac.id'}, {'nama': 'Aji Manarul Aziz', 'nim': 'I0320119', 'kontak': '0812XXXXXXXX', 'surel': 'manarul@student.uns.ac.id'}, {'nama': 'Alica Ayu Fitriani', 'nim': 'I0320121', 'kontak': '0896XXXXXXXX', 'surel': 'alica@student.uns.ac.id'}, {'nama': 'Dendy Halim Kusuma', 'nim': 'I0320125', 'kontak': '0822XXXXXXXX', 'surel': 'dendy@student.uns.ac.id'}]\n"
     ]
    }
   ],
   "source": [
    "# B \n",
    "\n",
    "for o in range(0, len(list_aslab)):\n",
    "    list_aslab[o][\"surel\"] = surel[o]\n",
    "      \n",
    "print(list_aslab)"
   ]
  },
  {
   "cell_type": "code",
   "execution_count": 14,
   "metadata": {},
   "outputs": [
    {
     "name": "stdout",
     "output_type": "stream",
     "text": [
      "[{'nama': 'Berlian Safri Prakoso', 'nim': 'I0320017', 'surel': 'berlian@student.uns.ac.id'}, {'nama': 'Halidya Siti Hanifah', 'nim': 'I0320044', 'surel': 'halidya@student.uns.ac.id'}, {'nama': 'Nurki Putra Mahardika', 'nim': 'I0320076', 'surel': 'nurki@student.uns.ac.id'}, {'nama': 'Aji Manarul Aziz', 'nim': 'I0320119', 'surel': 'manarul@student.uns.ac.id'}, {'nama': 'Alica Ayu Fitriani', 'nim': 'I0320121', 'surel': 'alica@student.uns.ac.id'}, {'nama': 'Dendy Halim Kusuma', 'nim': 'I0320125', 'surel': 'dendy@student.uns.ac.id'}]\n"
     ]
    }
   ],
   "source": [
    "# C \n",
    "\n",
    "for d in range(0, len(list_aslab)):\n",
    "    del list_aslab[d][\"kontak\"]\n",
    "    \n",
    "print(list_aslab)"
   ]
  }
 ],
 "metadata": {
  "kernelspec": {
   "display_name": "Python 3",
   "language": "python",
   "name": "python3"
  },
  "language_info": {
   "codemirror_mode": {
    "name": "ipython",
    "version": 3
   },
   "file_extension": ".py",
   "mimetype": "text/x-python",
   "name": "python",
   "nbconvert_exporter": "python",
   "pygments_lexer": "ipython3",
   "version": "3.10.7"
  },
  "orig_nbformat": 4,
  "vscode": {
   "interpreter": {
    "hash": "5addf786bcd861d1ce5006f23111f8cbb206731e5b61b0a5632ba9e0252558a8"
   }
  }
 },
 "nbformat": 4,
 "nbformat_minor": 2
}
