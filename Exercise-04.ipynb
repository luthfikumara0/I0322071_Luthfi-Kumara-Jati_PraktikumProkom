{
 "cells": [
  {
   "cell_type": "code",
   "execution_count": 1,
   "metadata": {},
   "outputs": [
    {
     "name": "stdout",
     "output_type": "stream",
     "text": [
      "Luthfi Kumara Jati\n",
      "I0322071\n",
      "C\n"
     ]
    }
   ],
   "source": [
    "print(input(\"Nama: \"))\n",
    "print(input(\"NIM: \"))\n",
    "print(input(\"Kelas: \"))"
   ]
  },
  {
   "attachments": {},
   "cell_type": "markdown",
   "metadata": {},
   "source": [
    "## 1."
   ]
  },
  {
   "attachments": {},
   "cell_type": "markdown",
   "metadata": {},
   "source": [
    "Buatlah program yang menampilkan tarif pajak yang harus dibayarkan oleh user dengan input yaitu nama user dan pendapatan dari user.<br>\n",
    "Dengan ketentuan sebagai berikut:\n",
    "* Jika pendapatan kurang dari atau sama dengan 10 juta, maka tarif pajak adalah 2,5%\n",
    "* Jika pendapatan kurang dari atau sama dengan 20 juta, maka tarif pajak adalah 5%\n",
    "* Jika pendapatan kurang dari atau sama dengan 50 juta, maka tarif pajak adalah 10%.\n",
    "* Jika pendapatan lebih dari 50 juta, maka tarif pajak adalah 12,5%.\n",
    "> *note: Kerjakan soal ini dengan percabangan*"
   ]
  },
  {
   "cell_type": "code",
   "execution_count": 70,
   "metadata": {},
   "outputs": [
    {
     "name": "stdout",
     "output_type": "stream",
     "text": [
      "Pendapatan anda 5000\n",
      "Tarif pajak anda adalah 2,5%\n",
      "Anda harus membayar pajak sebesar 125.0\n"
     ]
    }
   ],
   "source": [
    "# Kerjakan soal no 1 di sini\n",
    "\n",
    "pendapatan = int(input(\"Masukan gaji anda\"))\n",
    "\n",
    "if pendapatan<=10000000:\n",
    "    print(\"Pendapatan anda\",pendapatan)\n",
    "    print(\"Tarif pajak anda adalah 2,5%\")\n",
    "    tarifPajak = pendapatan*(2.5/100)\n",
    "    print(\"Anda harus membayar pajak sebesar\",tarifPajak)\n",
    "elif pendapatan<=20000000:\n",
    "    print(\"Pendapatan anda\",pendapatan)\n",
    "    print(\"Tarif pajak anda adalah 5%\")\n",
    "    tarifPajak = pendapatan*(5/100)\n",
    "    print(\"Anda harus membayar pajak sebesar\",tarifPajak)\n",
    "elif pendapatan<=50000000:\n",
    "    print(\"Pendapatan anda\",pendapatan)\n",
    "    print(\"Tarif pajak anda adalah 10%\")\n",
    "    tarifPajak = pendapatan*(10/100)\n",
    "    print(\"Anda harus membayar pajak sebesar\",tarifPajak)\n",
    "else:\n",
    "    print(\"Pendapatan anda\",pendapatan)\n",
    "    print(\"Tarif pajak anda adalah 12,5%\")\n",
    "    tarifPajak = pendapatan*(12.5/100)\n",
    "    print(\"Anda harus membayar pajak sebesar\",tarifPajak)"
   ]
  },
  {
   "attachments": {},
   "cell_type": "markdown",
   "metadata": {},
   "source": [
    "## 2."
   ]
  },
  {
   "attachments": {},
   "cell_type": "markdown",
   "metadata": {},
   "source": [
    "Buatlah program yang menampilkan akan melakukan validasi apakah mahasiswa tersebut berasal dari TI UNS berdasarkan NIM yang diinput oleh user:\n",
    "<br>Dengan ketentuan sebagai berikut:\n",
    "* NIM mahasiswa TI harus dimulai dengan \"I03\" dengan total panjang 8 karakter (I0320078 adalah contoh NIM mahasiswa TI UNS)\n",
    "* Program akan menampilkan pesan \"NIM mahasiswa TI UNS\" jika NIM yang dimasukkan sesuai dengan format yang dijelaskan di atas, dan akan menampilkan pesan \"NIM Anda tidak valid\" jika tidak sesuai.\n",
    "> *note: Kerjakan soal ini dengan percabangan*"
   ]
  },
  {
   "cell_type": "code",
   "execution_count": 61,
   "metadata": {},
   "outputs": [
    {
     "name": "stdout",
     "output_type": "stream",
     "text": [
      "I0322088\n",
      "NIM mahasiswa TI UNS\n"
     ]
    }
   ],
   "source": [
    "# Kerjakan soal no 2 di sini\n",
    "\n",
    "nim = input(\"Masukan NIM = \")\n",
    "\n",
    "if len(nim)==8 and nim[0:3]==\"I03\":\n",
    "    print(nim)\n",
    "    print(\"NIM mahasiswa TI UNS\")\n",
    "\n",
    "else:\n",
    "    print(nim)\n",
    "    print(\"NIM anda tidak valid\")"
   ]
  }
 ],
 "metadata": {
  "kernelspec": {
   "display_name": "Python 3",
   "language": "python",
   "name": "python3"
  },
  "language_info": {
   "codemirror_mode": {
    "name": "ipython",
    "version": 3
   },
   "file_extension": ".py",
   "mimetype": "text/x-python",
   "name": "python",
   "nbconvert_exporter": "python",
   "pygments_lexer": "ipython3",
   "version": "3.10.7"
  },
  "orig_nbformat": 4
 },
 "nbformat": 4,
 "nbformat_minor": 2
}
