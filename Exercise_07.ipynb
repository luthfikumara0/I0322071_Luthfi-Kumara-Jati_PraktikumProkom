{
 "cells": [
  {
   "cell_type": "code",
   "execution_count": 6,
   "metadata": {},
   "outputs": [
    {
     "name": "stdout",
     "output_type": "stream",
     "text": [
      "[[2, 2, 23], [2, 1, 2], [3, 2, 1], [2, 4, 5], [3, 2, 4], [5, 4, 3]]\n"
     ]
    }
   ],
   "source": [
    "#Buatlah sebuah fungsi untuk membuat matrix berdasarkan input dari user\n",
    "\n",
    "import numpy\n",
    "\n",
    "\n",
    "def buat_matrix(baris, kolom):\n",
    "    global matrix\n",
    "    matrix = [[0 for z in range(kolom)]for y in range(baris)]\n",
    "    for y in range(baris):\n",
    "        for z in range(kolom):\n",
    "            matrix[y][z] = int(input(f\"Masukkan elemen untuk [{y+1}][{z+1}] : \"))\n",
    "    return matrix\n",
    "\n",
    "print(buat_matrix(baris=int(input('Masukkan Jumlah Baris:\\t')),\n",
    "      kolom=int(input('Masukkan Jumlah Kolom:\\t'))))"
   ]
  },
  {
   "cell_type": "code",
   "execution_count": 9,
   "metadata": {},
   "outputs": [
    {
     "name": "stdout",
     "output_type": "stream",
     "text": [
      "[[3, 3, 3], [3, 3, 3], [3, 3, 3]]\n"
     ]
    },
    {
     "data": {
      "text/plain": [
       "0"
      ]
     },
     "execution_count": 9,
     "metadata": {},
     "output_type": "execute_result"
    }
   ],
   "source": [
    "#Buatlah sebuah fungsi untuk mencari determinan matrix berdasarkan input matrix dari user\n",
    "baris = int(input('Masukkan Jumlah Baris:\\t'))\n",
    "kolom = int(input('Masukkan Jumlah Kolom:\\t'))\n",
    "buat_matrix(baris, kolom)\n",
    "\n",
    "def deter(matx):\n",
    "    a = len(matx)\n",
    "    if a == 1:\n",
    "        return matx[0][0]\n",
    "    else:\n",
    "        det = 0\n",
    "        for j in range(a):\n",
    "            temp = [r[:j]+r[j+1:] for r in matx[1:]]\n",
    "            det += (-1)**j * matx[0][j] * deter(temp)\n",
    "    return det\n",
    "print(matrix)\n",
    "deter(matrix)"
   ]
  },
  {
   "cell_type": "code",
   "execution_count": 13,
   "metadata": {},
   "outputs": [
    {
     "name": "stdout",
     "output_type": "stream",
     "text": [
      "matrix 1 = [[4, 3, 2], [3, 2, 2]]\n",
      "matrix 2 = [[2, 3, 3], [2, 3, 2], [3, 2, 3]]\n",
      "[20, 25, 24]\n",
      "[16, 19, 19]\n"
     ]
    }
   ],
   "source": [
    "#Buatlah fungsi untuk mengakalikan dua buah matrix berdasarkan input user menggunakan nested loop\n",
    "\n",
    "def buat_matrix1(baris1, kolom1):\n",
    "    global m1\n",
    "    m1 = [[0 for j in range(kolom1)]for i in range(baris1)]\n",
    "    for i in range(baris1):\n",
    "        for j in range(kolom1):\n",
    "            m1[i][j] = int(input(f'Masukkan elemen untuk [{i+1}][{j+1}] : '))\n",
    "    return m1\n",
    " \n",
    "baris1 = int(input('Masukkan Jumlah Baris Matrix 1:\\t'))\n",
    "kolom1 = int(input('Masukkan Jumlah Kolom Matrix 1:\\t'))\n",
    "buat_matrix1(baris1, kolom1)\n",
    "\n",
    "def buat_matrix2(baris2, kolom2):\n",
    "    global m2\n",
    "    m2 = [[0 for j in range(kolom2)]for i in range(baris2)]\n",
    "    for i in range(baris2):\n",
    "        for j in range(kolom2):\n",
    "            m2[i][j] = int(input(f'Masukkan elemen untuk [{i+1}][{j+1}] : '))\n",
    "    return m2\n",
    "\n",
    "\n",
    "baris2 = int(input('Masukkan Jumlah Baris Matrix 2:\\t'))\n",
    "kolom2 = int(input('Masukkan Jumlah Kolom Matrix 2:\\t'))\n",
    "buat_matrix2(baris2, kolom2)\n",
    "\n",
    "def multiply_matrix(m1, m2):\n",
    "    m = len(m1)\n",
    "    n = len(m2[0])\n",
    "    p = len(m2)\n",
    "    \n",
    "    result = [[0 for j in range(n)] for i in range(m)]\n",
    "    for i in range(m):\n",
    "        for j in range(n):\n",
    "            for k in range(p):\n",
    "                result[i][j] += m1[i][k] * m2[k][j]\n",
    "    \n",
    "    for r in result:\n",
    "        print(r)\n",
    "\n",
    "print('matrix 1 =',m1)\n",
    "print('matrix 2 =',m2)\n",
    "multiply_matrix(m1, m2)"
   ]
  }
 ],
 "metadata": {
  "kernelspec": {
   "display_name": "Python 3",
   "language": "python",
   "name": "python3"
  },
  "language_info": {
   "codemirror_mode": {
    "name": "ipython",
    "version": 3
   },
   "file_extension": ".py",
   "mimetype": "text/x-python",
   "name": "python",
   "nbconvert_exporter": "python",
   "pygments_lexer": "ipython3",
   "version": "3.10.7"
  },
  "orig_nbformat": 4
 },
 "nbformat": 4,
 "nbformat_minor": 2
}
